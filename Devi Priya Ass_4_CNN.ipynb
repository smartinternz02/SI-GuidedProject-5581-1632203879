{
  "nbformat": 4,
  "nbformat_minor": 0,
  "metadata": {
    "colab": {
      "name": "Ass 4- CNN.ipynb",
      "provenance": []
    },
    "kernelspec": {
      "name": "python3",
      "display_name": "Python 3"
    },
    "language_info": {
      "name": "python"
    }
  },
  "cells": [
    {
      "cell_type": "code",
      "metadata": {
        "id": "VgvfYzjEs7IB"
      },
      "source": [
        "from tensorflow.keras.models import Sequential\n",
        "from tensorflow.keras.layers import Dense\n",
        "from tensorflow.keras.layers import Convolution2D\n",
        "from tensorflow.keras.layers import MaxPooling2D\n",
        "from tensorflow.keras.layers import Flatten"
      ],
      "execution_count": 16,
      "outputs": []
    },
    {
      "cell_type": "code",
      "metadata": {
        "colab": {
          "base_uri": "https://localhost:8080/"
        },
        "id": "iVcy2Ikwh2Ay",
        "outputId": "42192ba9-bb6f-49ae-89a3-3cb095529c5c"
      },
      "source": [
        "from google.colab import drive\n",
        "drive.mount('/content/drive')"
      ],
      "execution_count": 1,
      "outputs": [
        {
          "output_type": "stream",
          "name": "stdout",
          "text": [
            "Mounted at /content/drive\n"
          ]
        }
      ]
    },
    {
      "cell_type": "code",
      "metadata": {
        "id": "15hUNXTZwPQ1"
      },
      "source": [
        "from keras.preprocessing.image import ImageDataGenerator\n",
        "train_datagen=ImageDataGenerator(rescale=1./255,shear_range=0.2,zoom_range=0.2,horizontal_flip=True)\n",
        "test_datagen=ImageDataGenerator(rescale=1./255)"
      ],
      "execution_count": 3,
      "outputs": []
    },
    {
      "cell_type": "markdown",
      "metadata": {
        "id": "hu7LljXexY-J"
      },
      "source": [
        "shear_range = distorting image\n",
        "rescale=1./255-- transform every pixel value from range [0,255] -> [0,1]\n"
      ]
    },
    {
      "cell_type": "code",
      "metadata": {
        "colab": {
          "base_uri": "https://localhost:8080/"
        },
        "id": "FBSbZVmix9v5",
        "outputId": "612d8ffb-5184-4e1f-f3b8-47057858ce82"
      },
      "source": [
        "x_train=train_datagen.flow_from_directory(r\"/content/drive/MyDrive/Smart Bridge - AI DS course/Assignment /Ass 4- CNN/Animal/train\",target_size=(64,64),batch_size=32,class_mode=\"categorical\")\n",
        "x_test=test_datagen.flow_from_directory(r\"/content/drive/MyDrive/Smart Bridge - AI DS course/Assignment /Ass 4- CNN/Animal/test\",target_size=(64,64),batch_size=32,class_mode=\"categorical\")"
      ],
      "execution_count": 4,
      "outputs": [
        {
          "output_type": "stream",
          "name": "stdout",
          "text": [
            "Found 7955 images belonging to 70 classes.\n",
            "Found 704 images belonging to 70 classes.\n"
          ]
        }
      ]
    },
    {
      "cell_type": "code",
      "metadata": {
        "colab": {
          "base_uri": "https://localhost:8080/"
        },
        "id": "_w2Rkf7YzhBk",
        "outputId": "112a7b35-835b-4e22-9b34-dbef061d0ca4"
      },
      "source": [
        "print(x_train.class_indices)"
      ],
      "execution_count": 5,
      "outputs": [
        {
          "output_type": "stream",
          "name": "stdout",
          "text": [
            "{'Afghan': 0, 'African Wild Dog': 1, 'Airedale': 2, 'American Hairless': 3, 'American Spaniel': 4, 'Basenji': 5, 'Basset': 6, 'Beagle': 7, 'Bearded Collie': 8, 'Bermaise': 9, 'Bichon Frise': 10, 'Blenheim': 11, 'Bloodhound': 12, 'Bluetick': 13, 'Border Collie': 14, 'Borzoi': 15, 'Boston Terrier': 16, 'Boxer': 17, 'Bull Mastiff': 18, 'Bull Terrier': 19, 'Bulldog': 20, 'Cairn': 21, 'Chihuahua': 22, 'Chinese Crested': 23, 'Chow': 24, 'Clumber': 25, 'Cockapoo': 26, 'Cocker': 27, 'Collie': 28, 'Corgi': 29, 'Coyote': 30, 'Dalmation': 31, 'Dhole': 32, 'Dingo': 33, 'Doberman': 34, 'Elk Hound': 35, 'French Bulldog': 36, 'German Sheperd': 37, 'Golden Retriever': 38, 'Great Dane': 39, 'Great Perenees': 40, 'Greyhound': 41, 'Groenendael': 42, 'Irish Spaniel': 43, 'Irish Wolfhound': 44, 'Japanese Spaniel': 45, 'Komondor': 46, 'Labradoodle': 47, 'Labrador': 48, 'Lhasa': 49, 'Malinois': 50, 'Maltese': 51, 'Mex Hairless': 52, 'Newfoundland': 53, 'Pekinese': 54, 'Pit Bull': 55, 'Pomeranian': 56, 'Poodle': 57, 'Pug': 58, 'Rhodesian': 59, 'Rottweiler': 60, 'Saint Bernard': 61, 'Schnauzer': 62, 'Scotch Terrier': 63, 'Shar_Pei': 64, 'Shiba Inu': 65, 'Shih-Tzu': 66, 'Siberian Husky': 67, 'Vizsla': 68, 'Yorkie': 69}\n"
          ]
        }
      ]
    },
    {
      "cell_type": "code",
      "metadata": {
        "id": "uG8O1NrYzsqF"
      },
      "source": [
        "model=Sequential()"
      ],
      "execution_count": 6,
      "outputs": []
    },
    {
      "cell_type": "code",
      "metadata": {
        "id": "aIMppu5Rzxvs"
      },
      "source": [
        "#adding convolution layer(no.of filters,filter size,input shape,activation function)\n",
        "model.add(Convolution2D(32,(3,3),input_shape=(64,64,3),activation=\"relu\"))"
      ],
      "execution_count": 7,
      "outputs": []
    },
    {
      "cell_type": "code",
      "metadata": {
        "id": "3CmecG6B0tY4"
      },
      "source": [
        "#adding max pooling layer(pool_size)\n",
        "model.add(MaxPooling2D(pool_size=(2,2)))"
      ],
      "execution_count": 8,
      "outputs": []
    },
    {
      "cell_type": "code",
      "metadata": {
        "id": "0ucdWoGo04Ak"
      },
      "source": [
        "#input layer of ann\n",
        "model.add(Flatten())"
      ],
      "execution_count": 9,
      "outputs": []
    },
    {
      "cell_type": "code",
      "metadata": {
        "id": "22aXkgFG0-rx"
      },
      "source": [
        "#add hidden layer(no.of neurons,activation=relu,weights)\n",
        "model.add(Dense(units=128,activation=\"relu\"))"
      ],
      "execution_count": 10,
      "outputs": []
    },
    {
      "cell_type": "code",
      "metadata": {
        "id": "QGpSELNh1jyL"
      },
      "source": [
        "#add output layer(no.of output classes=5,activation function=softmax)\n",
        "model.add(Dense(units=70,activation=\"softmax\"))"
      ],
      "execution_count": 17,
      "outputs": []
    },
    {
      "cell_type": "code",
      "metadata": {
        "colab": {
          "base_uri": "https://localhost:8080/"
        },
        "id": "jZGwtoCt1yUg",
        "outputId": "ac7bd50b-328a-4ad8-8052-bf2aee90ca59"
      },
      "source": [
        "model.summary()"
      ],
      "execution_count": 18,
      "outputs": [
        {
          "output_type": "stream",
          "name": "stdout",
          "text": [
            "Model: \"sequential\"\n",
            "_________________________________________________________________\n",
            "Layer (type)                 Output Shape              Param #   \n",
            "=================================================================\n",
            "conv2d (Conv2D)              (None, 62, 62, 32)        896       \n",
            "_________________________________________________________________\n",
            "max_pooling2d (MaxPooling2D) (None, 31, 31, 32)        0         \n",
            "_________________________________________________________________\n",
            "flatten (Flatten)            (None, 30752)             0         \n",
            "_________________________________________________________________\n",
            "dense (Dense)                (None, 128)               3936384   \n",
            "_________________________________________________________________\n",
            "dense_1 (Dense)              (None, 5)                 645       \n",
            "_________________________________________________________________\n",
            "dense_2 (Dense)              (None, 70)                420       \n",
            "=================================================================\n",
            "Total params: 3,938,345\n",
            "Trainable params: 3,938,345\n",
            "Non-trainable params: 0\n",
            "_________________________________________________________________\n"
          ]
        }
      ]
    },
    {
      "cell_type": "code",
      "metadata": {
        "id": "Iran9ogb2cK3"
      },
      "source": [
        "#configure the learning process(loss fucntion,accuracy,optimizer)\n",
        "model.compile(loss=\"categorical_crossentropy\",optimizer=\"adam\",metrics=[\"accuracy\"])"
      ],
      "execution_count": 19,
      "outputs": []
    },
    {
      "cell_type": "code",
      "metadata": {
        "colab": {
          "base_uri": "https://localhost:8080/"
        },
        "id": "F04TCJvG2_b6",
        "outputId": "b7ffc0fe-3aa2-4a6c-a3ba-1c06394378e1"
      },
      "source": [
        "model.fit(x_train,steps_per_epoch=47, epochs=3,validation_data=x_test,validation_steps=20)"
      ],
      "execution_count": 20,
      "outputs": [
        {
          "output_type": "stream",
          "name": "stdout",
          "text": [
            "Epoch 1/3\n",
            "47/47 [==============================] - 540s 12s/step - loss: 4.2589 - accuracy: 0.0146 - val_loss: 4.2599 - val_accuracy: 0.0141\n",
            "Epoch 2/3\n",
            "47/47 [==============================] - 303s 6s/step - loss: 4.2586 - accuracy: 0.0174 - val_loss: 4.2585 - val_accuracy: 0.0141\n",
            "Epoch 3/3\n",
            "47/47 [==============================] - 245s 5s/step - loss: 4.2540 - accuracy: 0.0153 - val_loss: 4.2596 - val_accuracy: 0.0125\n"
          ]
        },
        {
          "output_type": "execute_result",
          "data": {
            "text/plain": [
              "<keras.callbacks.History at 0x7f2049071950>"
            ]
          },
          "metadata": {},
          "execution_count": 20
        }
      ]
    },
    {
      "cell_type": "markdown",
      "metadata": {
        "id": "wesEVdG_3jZj"
      },
      "source": [
        "steps_per_epoch=no.of images in train data/batch_size  =1495/32 = 46.71 (47),\n",
        "\n",
        "validation steps=no.of images in test data/batch _size = 640/32 =20\n"
      ]
    },
    {
      "cell_type": "code",
      "metadata": {
        "id": "zQkf4vDE4G7V"
      },
      "source": [
        "model.save(\"/content/drive/MyDrive/Smart Bridge - AI DS course/Assignment /Ass 4- CNN/animal.h5\")"
      ],
      "execution_count": 21,
      "outputs": []
    },
    {
      "cell_type": "code",
      "metadata": {
        "id": "OGPk5BYkEKmn"
      },
      "source": [
        "from tensorflow.keras.models import load_model\n",
        "from keras.preprocessing import image\n",
        "import numpy as numpy\n"
      ],
      "execution_count": 44,
      "outputs": []
    },
    {
      "cell_type": "code",
      "metadata": {
        "id": "fOvAiYS53kwh"
      },
      "source": [
        "model=load_model(\"/content/drive/MyDrive/Smart Bridge - AI DS course/Assignment /Ass 4- CNN/animal.h5\")"
      ],
      "execution_count": 23,
      "outputs": []
    },
    {
      "cell_type": "code",
      "metadata": {
        "id": "wY4JISZhEmnj"
      },
      "source": [
        "img=image.load_img(\"/content/drive/MyDrive/Smart Bridge - AI DS course/Assignment /Ass 4- CNN/25.jpg\",target_size=(64,64))"
      ],
      "execution_count": 45,
      "outputs": []
    },
    {
      "cell_type": "code",
      "metadata": {
        "colab": {
          "base_uri": "https://localhost:8080/",
          "height": 81
        },
        "id": "nSr-Jgm2FNmh",
        "outputId": "db21cb2d-7bb0-422e-852b-a39941026b84"
      },
      "source": [
        "img"
      ],
      "execution_count": 46,
      "outputs": [
        {
          "output_type": "execute_result",
          "data": {
            "image/png": "[encoded data removed]",
            "text/plain": [
              "<PIL.Image.Image image mode=RGB size=64x64 at 0x7F203E5FC750>"
            ]
          },
          "metadata": {},
          "execution_count": 46
        }
      ]
    },
    {
      "cell_type": "code",
      "metadata": {
        "id": "ga7gAXhCGHwi"
      },
      "source": [
        "x=image.img_to_array(img) #convert to array format - preprocess"
      ],
      "execution_count": 47,
      "outputs": []
    },
    {
      "cell_type": "code",
      "metadata": {
        "colab": {
          "base_uri": "https://localhost:8080/"
        },
        "id": "VEs6y_VDGlCO",
        "outputId": "f7ec9011-745c-413a-dcd1-6fc3f4077a6a"
      },
      "source": [
        "x.shape"
      ],
      "execution_count": 48,
      "outputs": [
        {
          "output_type": "execute_result",
          "data": {
            "text/plain": [
              "(64, 64, 3)"
            ]
          },
          "metadata": {},
          "execution_count": 48
        }
      ]
    },
    {
      "cell_type": "code",
      "metadata": {
        "id": "bzmhBBwRHCAd"
      },
      "source": [
        "#expand dimensions to 4 since cnn takes 4 dimensions\n",
        "import numpy as np\n",
        "x=np.expand_dims(x,axis=0)"
      ],
      "execution_count": 49,
      "outputs": []
    },
    {
      "cell_type": "code",
      "metadata": {
        "colab": {
          "base_uri": "https://localhost:8080/"
        },
        "id": "TAaEs1thHcyx",
        "outputId": "dd575f5e-5a04-4210-fc1e-51b8bef8d7e5"
      },
      "source": [
        "x.shape  #1 represents batch size, width,height, channels"
      ],
      "execution_count": 50,
      "outputs": [
        {
          "output_type": "execute_result",
          "data": {
            "text/plain": [
              "(1, 64, 64, 3)"
            ]
          },
          "metadata": {},
          "execution_count": 50
        }
      ]
    },
    {
      "cell_type": "code",
      "metadata": {
        "colab": {
          "base_uri": "https://localhost:8080/"
        },
        "id": "T4BgmdSKHumK",
        "outputId": "8adc184d-7455-4a83-f331-fc8f32e15e90"
      },
      "source": [
        "x_train.class_indices"
      ],
      "execution_count": 51,
      "outputs": [
        {
          "output_type": "execute_result",
          "data": {
            "text/plain": [
              "{'Afghan': 0,\n",
              " 'African Wild Dog': 1,\n",
              " 'Airedale': 2,\n",
              " 'American Hairless': 3,\n",
              " 'American Spaniel': 4,\n",
              " 'Basenji': 5,\n",
              " 'Basset': 6,\n",
              " 'Beagle': 7,\n",
              " 'Bearded Collie': 8,\n",
              " 'Bermaise': 9,\n",
              " 'Bichon Frise': 10,\n",
              " 'Blenheim': 11,\n",
              " 'Bloodhound': 12,\n",
              " 'Bluetick': 13,\n",
              " 'Border Collie': 14,\n",
              " 'Borzoi': 15,\n",
              " 'Boston Terrier': 16,\n",
              " 'Boxer': 17,\n",
              " 'Bull Mastiff': 18,\n",
              " 'Bull Terrier': 19,\n",
              " 'Bulldog': 20,\n",
              " 'Cairn': 21,\n",
              " 'Chihuahua': 22,\n",
              " 'Chinese Crested': 23,\n",
              " 'Chow': 24,\n",
              " 'Clumber': 25,\n",
              " 'Cockapoo': 26,\n",
              " 'Cocker': 27,\n",
              " 'Collie': 28,\n",
              " 'Corgi': 29,\n",
              " 'Coyote': 30,\n",
              " 'Dalmation': 31,\n",
              " 'Dhole': 32,\n",
              " 'Dingo': 33,\n",
              " 'Doberman': 34,\n",
              " 'Elk Hound': 35,\n",
              " 'French Bulldog': 36,\n",
              " 'German Sheperd': 37,\n",
              " 'Golden Retriever': 38,\n",
              " 'Great Dane': 39,\n",
              " 'Great Perenees': 40,\n",
              " 'Greyhound': 41,\n",
              " 'Groenendael': 42,\n",
              " 'Irish Spaniel': 43,\n",
              " 'Irish Wolfhound': 44,\n",
              " 'Japanese Spaniel': 45,\n",
              " 'Komondor': 46,\n",
              " 'Labradoodle': 47,\n",
              " 'Labrador': 48,\n",
              " 'Lhasa': 49,\n",
              " 'Malinois': 50,\n",
              " 'Maltese': 51,\n",
              " 'Mex Hairless': 52,\n",
              " 'Newfoundland': 53,\n",
              " 'Pekinese': 54,\n",
              " 'Pit Bull': 55,\n",
              " 'Pomeranian': 56,\n",
              " 'Poodle': 57,\n",
              " 'Pug': 58,\n",
              " 'Rhodesian': 59,\n",
              " 'Rottweiler': 60,\n",
              " 'Saint Bernard': 61,\n",
              " 'Schnauzer': 62,\n",
              " 'Scotch Terrier': 63,\n",
              " 'Shar_Pei': 64,\n",
              " 'Shiba Inu': 65,\n",
              " 'Shih-Tzu': 66,\n",
              " 'Siberian Husky': 67,\n",
              " 'Vizsla': 68,\n",
              " 'Yorkie': 69}"
            ]
          },
          "metadata": {},
          "execution_count": 51
        }
      ]
    },
    {
      "cell_type": "code",
      "metadata": {
        "colab": {
          "base_uri": "https://localhost:8080/",
          "height": 35
        },
        "id": "XQNxz5qAGYUz",
        "outputId": "fcd479e4-fa52-497b-8a9d-5bef3125017a"
      },
      "source": [
        "import tensorflow as tf #to check tensorflow version\n",
        "tf.__version__\n"
      ],
      "execution_count": 52,
      "outputs": [
        {
          "output_type": "execute_result",
          "data": {
            "application/vnd.google.colaboratory.intrinsic+json": {
              "type": "string"
            },
            "text/plain": [
              "'2.6.0'"
            ]
          },
          "metadata": {},
          "execution_count": 52
        }
      ]
    },
    {
      "cell_type": "code",
      "metadata": {
        "id": "_OKIrQ-KI7vS"
      },
      "source": [
        "pred=np.argmax(model)"
      ],
      "execution_count": 53,
      "outputs": []
    },
    {
      "cell_type": "code",
      "metadata": {
        "colab": {
          "base_uri": "https://localhost:8080/"
        },
        "id": "G6D8jjisI_9S",
        "outputId": "1402fed8-5b78-4d56-f2d5-02df50e26225"
      },
      "source": [
        "pred"
      ],
      "execution_count": 54,
      "outputs": [
        {
          "output_type": "execute_result",
          "data": {
            "text/plain": [
              "0"
            ]
          },
          "metadata": {},
          "execution_count": 54
        }
      ]
    },
    {
      "cell_type": "code",
      "metadata": {
        "colab": {
          "base_uri": "https://localhost:8080/"
        },
        "id": "V3dpfyzpJOto",
        "outputId": "3b75387c-4a93-4c5b-c5e1-f06c636db869"
      },
      "source": [
        "x_train.class_indices"
      ],
      "execution_count": 55,
      "outputs": [
        {
          "output_type": "execute_result",
          "data": {
            "text/plain": [
              "{'Afghan': 0,\n",
              " 'African Wild Dog': 1,\n",
              " 'Airedale': 2,\n",
              " 'American Hairless': 3,\n",
              " 'American Spaniel': 4,\n",
              " 'Basenji': 5,\n",
              " 'Basset': 6,\n",
              " 'Beagle': 7,\n",
              " 'Bearded Collie': 8,\n",
              " 'Bermaise': 9,\n",
              " 'Bichon Frise': 10,\n",
              " 'Blenheim': 11,\n",
              " 'Bloodhound': 12,\n",
              " 'Bluetick': 13,\n",
              " 'Border Collie': 14,\n",
              " 'Borzoi': 15,\n",
              " 'Boston Terrier': 16,\n",
              " 'Boxer': 17,\n",
              " 'Bull Mastiff': 18,\n",
              " 'Bull Terrier': 19,\n",
              " 'Bulldog': 20,\n",
              " 'Cairn': 21,\n",
              " 'Chihuahua': 22,\n",
              " 'Chinese Crested': 23,\n",
              " 'Chow': 24,\n",
              " 'Clumber': 25,\n",
              " 'Cockapoo': 26,\n",
              " 'Cocker': 27,\n",
              " 'Collie': 28,\n",
              " 'Corgi': 29,\n",
              " 'Coyote': 30,\n",
              " 'Dalmation': 31,\n",
              " 'Dhole': 32,\n",
              " 'Dingo': 33,\n",
              " 'Doberman': 34,\n",
              " 'Elk Hound': 35,\n",
              " 'French Bulldog': 36,\n",
              " 'German Sheperd': 37,\n",
              " 'Golden Retriever': 38,\n",
              " 'Great Dane': 39,\n",
              " 'Great Perenees': 40,\n",
              " 'Greyhound': 41,\n",
              " 'Groenendael': 42,\n",
              " 'Irish Spaniel': 43,\n",
              " 'Irish Wolfhound': 44,\n",
              " 'Japanese Spaniel': 45,\n",
              " 'Komondor': 46,\n",
              " 'Labradoodle': 47,\n",
              " 'Labrador': 48,\n",
              " 'Lhasa': 49,\n",
              " 'Malinois': 50,\n",
              " 'Maltese': 51,\n",
              " 'Mex Hairless': 52,\n",
              " 'Newfoundland': 53,\n",
              " 'Pekinese': 54,\n",
              " 'Pit Bull': 55,\n",
              " 'Pomeranian': 56,\n",
              " 'Poodle': 57,\n",
              " 'Pug': 58,\n",
              " 'Rhodesian': 59,\n",
              " 'Rottweiler': 60,\n",
              " 'Saint Bernard': 61,\n",
              " 'Schnauzer': 62,\n",
              " 'Scotch Terrier': 63,\n",
              " 'Shar_Pei': 64,\n",
              " 'Shiba Inu': 65,\n",
              " 'Shih-Tzu': 66,\n",
              " 'Siberian Husky': 67,\n",
              " 'Vizsla': 68,\n",
              " 'Yorkie': 69}"
            ]
          },
          "metadata": {},
          "execution_count": 55
        }
      ]
    },
    {
      "cell_type": "code",
      "metadata": {
        "colab": {
          "base_uri": "https://localhost:8080/"
        },
        "id": "hBaBk0JdL62I",
        "outputId": "147c1cfa-ee64-4874-939b-28eba406529c"
      },
      "source": [
        "y=model.predict(x)\n",
        "pred=np.argmax(y, axis=1)\n",
        "y"
      ],
      "execution_count": 56,
      "outputs": [
        {
          "output_type": "execute_result",
          "data": {
            "text/plain": [
              "array([[0.0145518 , 0.01283933, 0.01458395, 0.01458738, 0.01270515,\n",
              "        0.0113199 , 0.01856515, 0.01824524, 0.01428839, 0.01791497,\n",
              "        0.01778558, 0.01112558, 0.01316877, 0.0116054 , 0.01459203,\n",
              "        0.01172768, 0.01145097, 0.01195136, 0.01384678, 0.0135956 ,\n",
              "        0.01576155, 0.01234372, 0.01621017, 0.01585802, 0.01658461,\n",
              "        0.01702842, 0.01167564, 0.01636677, 0.0123686 , 0.01292222,\n",
              "        0.01310722, 0.0150838 , 0.01218644, 0.01455694, 0.01579066,\n",
              "        0.01555127, 0.01223489, 0.01130368, 0.01660625, 0.01539146,\n",
              "        0.01647589, 0.01606656, 0.01194971, 0.01245323, 0.01546214,\n",
              "        0.01157678, 0.0161344 , 0.01661119, 0.0183097 , 0.01516493,\n",
              "        0.01263486, 0.01566964, 0.01659364, 0.01317663, 0.01370563,\n",
              "        0.01229238, 0.01681778, 0.01409626, 0.01289565, 0.01410685,\n",
              "        0.01446519, 0.01556638, 0.01224   , 0.01191128, 0.01208231,\n",
              "        0.01586477, 0.01689307, 0.01176939, 0.01616274, 0.01146766]],\n",
              "      dtype=float32)"
            ]
          },
          "metadata": {},
          "execution_count": 56
        }
      ]
    },
    {
      "cell_type": "code",
      "metadata": {
        "id": "2kuoFrvWMQ7b",
        "colab": {
          "base_uri": "https://localhost:8080/"
        },
        "outputId": "363a3e2a-2815-4ce1-a873-54665b74d8de"
      },
      "source": [
        "pred"
      ],
      "execution_count": 57,
      "outputs": [
        {
          "output_type": "execute_result",
          "data": {
            "text/plain": [
              "array([6])"
            ]
          },
          "metadata": {},
          "execution_count": 57
        }
      ]
    }
  ]
}